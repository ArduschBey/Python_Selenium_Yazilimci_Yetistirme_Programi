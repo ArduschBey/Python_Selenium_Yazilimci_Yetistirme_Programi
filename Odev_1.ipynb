{
 "cells": [
  {
   "cell_type": "markdown",
   "id": "eaeb24ae-4b97-49c1-9285-64d4dfe0f619",
   "metadata": {},
   "source": [
    "## 1. Hafta Ödevi"
   ]
  },
  {
   "cell_type": "markdown",
   "id": "340ce29d-68e9-4208-a34c-37bb10dfa383",
   "metadata": {},
   "source": [
    "## 1.Kısım \n",
    "### Python'da Veri Tiplerini araştırınız, her bir veri tipi için kendi cümlelerinizle açıklamalar yazınız.\n"
   ]
  },
  {
   "cell_type": "markdown",
   "id": "e9c02e9f-9fae-42f5-b5b6-ace8f04db0d4",
   "metadata": {},
   "source": [
    "String(str): Metin yazım tipidir. Buradaki ifadeler tek tırnaklar veya çift tırnaklar arasında ifade edilir.\n",
    "\n",
    "İnteger(int): Tam sayıları ifade eden veri tipidir. Negatif ve pozitif sonsuz tamsayı bu gruba dahildir.\n",
    "\n",
    "Float: Ondalıklı sayıları ifade eden veri tipidir. Tam sayılar da bu veri tipinde ondalıklı gösterilir.\n",
    "\n",
    "Complex: Bu ifade karmaşık sayıların gerçek ve imajiner(sanal) parçaları saklanabilir. Hayali kısım “j” ile ifade edilir.\n",
    "\n",
    "List: Listeler, birden çok öğeyi tek bir değişkende depolamak için kullanılır. List değiştirilebilir bir koleksiyondur.\n",
    "\n",
    "Tuple: Tuple birden çok öğeyi tek bir değişkende depolamak için kullanılır. Tuple, sıralı ve değiştirilemez bir koleksiyondur.\n",
    "\n",
    "Dictionary: Genellikle çentikli parantezle ifade edilen verilerin depolandığı ifadelerdir.\n",
    "\n",
    "Set: List, dictionary ve tuple veri türü gibi birden çok veri türünü birlikte barındıran veri tipidir.Bir kümenin elemanlarını ekleyebilir ve silebilir, kümenin elemanlarını yineleyebilir vb küme işlemlerini gerçekleştirebiliriz.\n",
    "\n",
    "Boolean: Programlamada bie ifadenin doğru olup olmaması True, False gibi.\n",
    "\n",
    "Binary: Bytes ve bytearray, ikili verileri işlemek için kullanılır. Memoryview, bir kopya oluşturmaya gerek kalmadan diğer ikili nesnelerin belleğine erişmek için arabellek protokolünü kullanır."
   ]
  },
  {
   "cell_type": "markdown",
   "id": "9bc9329c-3f6d-4122-ab77-007e4a5c6047",
   "metadata": {},
   "source": [
    "## 2. Kısım"
   ]
  },
  {
   "cell_type": "markdown",
   "id": "be6f957f-bd05-4874-9cde-b015181f3bc1",
   "metadata": {},
   "source": [
    "### Kodlama.io sitesinde değişken olarak kullanıldığını düşündüğünüz verileri, veri tipleriyle birlikte örneklendiriniz."
   ]
  },
  {
   "cell_type": "markdown",
   "id": "b9da2e46-ac43-4ca3-bfa6-60d9d64b2e0a",
   "metadata": {},
   "source": [
    "Değişkenler = Kurs Programı , Eğitmeniniz , Kurs Tamamlama Yüzdesi.\n",
    "Bu değişkenlere atanmış değerler mevcuttur.\n",
    "\n",
    "Kurs Programı = Ders Programı(str), Değerlendirme(str), Ödev 1 (str,integer),\n",
    "\n",
    "Eğitmeniniz = Halit Enes Kalaycı(str),\n",
    "\n",
    "Kurs Tamamlama Yüzdesi = 25(int),\n",
    "\n"
   ]
  },
  {
   "cell_type": "markdown",
   "id": "0d2225f2-37b8-4279-b623-8399a58260f5",
   "metadata": {},
   "source": [
    "## 3. Kısım"
   ]
  },
  {
   "cell_type": "markdown",
   "id": "d4f6daf4-5166-4cfb-928d-ef686c5b0cf4",
   "metadata": {},
   "source": [
    "### Kodlama.io sitesinde şart blokları kullanıldığını düşündüğünüz kısımları örneklendiriniz ve Python dilinde bu örnekleri koda dökünüz."
   ]
  },
  {
   "cell_type": "code",
   "execution_count": 10,
   "id": "d1a1ce3a-50e0-41de-b824-68c753f28b1f",
   "metadata": {},
   "outputs": [
    {
     "name": "stdin",
     "output_type": "stream",
     "text": [
      "Lütfen  mail adresinizi giriniz:  arda887329@gmail.com\n",
      "Lütfen şifrenizi giriniz:  132964\n"
     ]
    },
    {
     "name": "stdout",
     "output_type": "stream",
     "text": [
      "Sisteme giriş yapıldı\n"
     ]
    }
   ],
   "source": [
    "# 1. ÖRNEK: kodlama.io internet sitesine giriş yapmak\n",
    "\n",
    "mail_adresi = \"arda887329@gmail.com\"\n",
    "sifre = \"132964\"\n",
    "\n",
    "Email = input(\"Lütfen  mail adresinizi giriniz: \")\n",
    "Password = input(\"Lütfen şifrenizi giriniz: \")\n",
    "\n",
    "if (Email == mail_adresi) and (Password == sifre):\n",
    "    print(\"Sisteme giriş yapıldı\")\n",
    "else:\n",
    "    print(\"Yanlış Email adresi veya şifre. Lütfen tekrar deneyiniz.\")\n"
   ]
  },
  {
   "cell_type": "code",
   "execution_count": null,
   "id": "b169a0af-697d-4fc6-bd4f-029b4e045bed",
   "metadata": {},
   "outputs": [],
   "source": []
  },
  {
   "cell_type": "code",
   "execution_count": null,
   "id": "e5796984-e3d9-4fb9-b0db-0f4cc21bb5bb",
   "metadata": {},
   "outputs": [],
   "source": []
  }
 ],
 "metadata": {
  "kernelspec": {
   "display_name": "Python 3 (ipykernel)",
   "language": "python",
   "name": "python3"
  },
  "language_info": {
   "codemirror_mode": {
    "name": "ipython",
    "version": 3
   },
   "file_extension": ".py",
   "mimetype": "text/x-python",
   "name": "python",
   "nbconvert_exporter": "python",
   "pygments_lexer": "ipython3",
   "version": "3.9.16"
  }
 },
 "nbformat": 4,
 "nbformat_minor": 5
}
